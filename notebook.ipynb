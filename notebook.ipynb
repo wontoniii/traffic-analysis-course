{
 "cells": [
  {
   "cell_type": "markdown",
   "metadata": {},
   "source": [
    "# PCAP Trace Analysis Exercise\n",
    "\n",
    "In this notebook, you will analyze several PCAP traces using Wireshark. Please open Wireshark and load the provided traces to answer the following questions. Hints are provided for commands or filters you may need to use."
   ]
  },
  {
   "cell_type": "markdown",
   "metadata": {},
   "source": [
    "## Trace 1\n",
    "\n",
    "Consider the trace contained in file `trace1.pcap`. It contains the traffic for a common application.\n",
    "\n",
    "1. **Identify the IP addresses involved in the session.**\n",
    "   - *Hint: Use the 'Endpoints' tool in Wireshark (Statistics > Endpoints).*  "
   ]
  },
  {
   "cell_type": "markdown",
   "metadata": {},
   "source": [
    "   **Answer:** [Your answer here]"
   ]
  },
  {
   "cell_type": "markdown",
   "metadata": {},
   "source": [
    "2. **What transport protocol is used for the video stream?**\n",
    "   - *Hint: Look for TCP or UDP in the protocol column.*  "
   ]
  },
  {
   "cell_type": "markdown",
   "metadata": {},
   "source": [
    "   **Answer:** [Your answer here]"
   ]
  },
  {
   "cell_type": "markdown",
   "metadata": {},
   "source": [
    "3. **Estimate the total amount of data transferred during the session.**\n",
    "   - *Hint: Use 'Statistics > Conversations' and check the Bytes column.*  "
   ]
  },
  {
   "cell_type": "markdown",
   "metadata": {},
   "source": [
    "   **Answer:** [Your answer here]"
   ]
  },
  {
   "cell_type": "markdown",
   "metadata": {},
   "source": [
    "4. **Find the initial handshake for the session. What TCP flags are set?**\n",
    "   - *Hint: Use the filter `tcp.flags.syn==1`.*  \n",
    "\n"
   ]
  },
  {
   "cell_type": "markdown",
   "metadata": {},
   "source": [
    "   **Answer:** [Your answer here]"
   ]
  },
  {
   "cell_type": "markdown",
   "metadata": {},
   "source": [
    "5. **Is there any evidence of buffering or retransmissions? How can you tell?**\n",
    "   - *Hint: Look for TCP retransmissions using the filter `tcp.analysis.retransmission`.*  "
   ]
  },
  {
   "cell_type": "markdown",
   "metadata": {},
   "source": [
    "   **Answer:** [Your answer here]"
   ]
  },
  {
   "cell_type": "markdown",
   "metadata": {},
   "source": [
    "## Trace 2\n",
    "\n",
    "Consider now the trace contained in file `trace2.pcap`. It contains the same application type as the first trace. However, it looks very different. "
   ]
  },
  {
   "cell_type": "markdown",
   "metadata": {},
   "source": [
    "6. What are the main differences you observe?"
   ]
  },
  {
   "cell_type": "markdown",
   "metadata": {},
   "source": [
    "   **Answer:** [Your answer here]"
   ]
  },
  {
   "cell_type": "markdown",
   "metadata": {},
   "source": [
    "## Trace 3\n",
    "\n",
    "Consider now the trace contained in file `trace3.pcap`. It contains a lot more traffic than the previous two traces."
   ]
  },
  {
   "cell_type": "markdown",
   "metadata": {},
   "source": [
    "7. **How many distinct devices are communicating on the network?**\n",
    "   - *Hint: Use 'Statistics > Endpoints' and count unique MAC or IP addresses.*  "
   ]
  },
  {
   "cell_type": "markdown",
   "metadata": {},
   "source": [
    "**Answer:** [Your answer here]"
   ]
  },
  {
   "cell_type": "markdown",
   "metadata": {},
   "source": [
    "8. **What are the top 3 protocols observed in the trace?**\n",
    "   - *Hint: Use 'Statistics > Protocol Hierarchy'.*  "
   ]
  },
  {
   "cell_type": "markdown",
   "metadata": {},
   "source": [
    "**Answer:** [Your answer here]"
   ]
  },
  {
   "cell_type": "markdown",
   "metadata": {},
   "source": [
    "9. **Is there any evidence of broadcast or multicast traffic?**\n",
    "   - *Hint: Filter with `eth.dst == ff:ff:ff:ff:ff:ff` for broadcast.*  "
   ]
  },
  {
   "cell_type": "markdown",
   "metadata": {},
   "source": [
    "**Answer:** [Your answer here]"
   ]
  },
  {
   "cell_type": "markdown",
   "metadata": {},
   "source": [
    "10. **Find an example of DNS traffic. What domain was queried?**\n",
    "   - *Hint: Use the filter `dns`.*  "
   ]
  },
  {
   "cell_type": "markdown",
   "metadata": {},
   "source": [
    "**Answer:** [Your answer here]"
   ]
  },
  {
   "cell_type": "markdown",
   "metadata": {},
   "source": [
    "11. **Is there any encrypted traffic? How can you identify it?**\n",
    "   - *Hint: Look for TLS or SSL in the protocol column.*  "
   ]
  },
  {
   "cell_type": "markdown",
   "metadata": {},
   "source": [
    "**Answer:** [Your answer here]"
   ]
  },
  {
   "cell_type": "markdown",
   "metadata": {},
   "source": [
    "12. You should by now have understood that, either this trace is very \"bizarre\", or that it was collected under specific conditions. Let's discuss about it and make a summary of finding."
   ]
  },
  {
   "cell_type": "markdown",
   "metadata": {},
   "source": [
    "## Trace 4\n",
    "\n",
    "Let's consider the last final trace contained in `trace4.pcap`. "
   ]
  },
  {
   "cell_type": "markdown",
   "metadata": {},
   "source": [
    "13. Can you guess what this trace contains?"
   ]
  },
  {
   "cell_type": "markdown",
   "metadata": {},
   "source": [
    "**Answer:** [Your answer here]"
   ]
  }
 ],
 "metadata": {
  "kernelspec": {
   "display_name": "Python 3",
   "language": "python",
   "name": "python3"
  },
  "language_info": {
   "name": "python",
   "version": ""
  }
 },
 "nbformat": 4,
 "nbformat_minor": 2
}
